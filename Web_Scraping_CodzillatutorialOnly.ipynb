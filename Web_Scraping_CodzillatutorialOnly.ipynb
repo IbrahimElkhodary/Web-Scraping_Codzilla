{
 "cells": [
  {
   "cell_type": "code",
   "execution_count": 1,
   "id": "f5d1656b",
   "metadata": {},
   "outputs": [],
   "source": [
    "import requests\n",
    "from bs4 import BeautifulSoup\n",
    "import csv\n",
    "from itertools import zip_longest\n",
    "import pandas as pd\n",
    "import numpy as np"
   ]
  },
  {
   "cell_type": "code",
   "execution_count": 2,
   "id": "e9692132",
   "metadata": {},
   "outputs": [
    {
     "name": "stdout",
     "output_type": "stream",
     "text": [
      "Total number of products: 3000\n"
     ]
    }
   ],
   "source": [
    "res = requests.get('https://sandbox.oxylabs.io/products')\n",
    "s = res.content\n",
    "soup = BeautifulSoup(s, 'lxml')\n",
    "pn = soup.find('p' , {'class': 'result-count css-s6k7k e1kord971'})\n",
    "total_res = int(pn.text.split()[0])\n",
    "print('Total number of products:', total_res)"
   ]
  },
  {
   "cell_type": "code",
   "execution_count": 8,
   "id": "1406a60a",
   "metadata": {},
   "outputs": [
    {
     "name": "stdout",
     "output_type": "stream",
     "text": [
      "Page 1 scraped\n",
      "Page 2 scraped\n",
      "Page 3 scraped\n",
      "Page 4 scraped\n",
      "Page 5 scraped\n",
      "Page 6 scraped\n",
      "Page 7 scraped\n",
      "Page 8 scraped\n",
      "Page 9 scraped\n",
      "Page 10 scraped\n",
      "Page 11 scraped\n",
      "Page 12 scraped\n",
      "Page 13 scraped\n",
      "Page 14 scraped\n",
      "Page 15 scraped\n",
      "Page 16 scraped\n",
      "Page 17 scraped\n",
      "Page 18 scraped\n",
      "Page 19 scraped\n",
      "Page 20 scraped\n",
      "Page 21 scraped\n",
      "Page 22 scraped\n",
      "Page 23 scraped\n",
      "Page 24 scraped\n",
      "Page 25 scraped\n",
      "Page 26 scraped\n",
      "Page 27 scraped\n",
      "Page 28 scraped\n",
      "Page 29 scraped\n",
      "Page 30 scraped\n",
      "Page 31 scraped\n",
      "Page 32 scraped\n",
      "Page 33 scraped\n",
      "Page 34 scraped\n",
      "Page 35 scraped\n",
      "Page 36 scraped\n",
      "Page 37 scraped\n",
      "Page 38 scraped\n",
      "Page 39 scraped\n",
      "Page 40 scraped\n",
      "Page 41 scraped\n",
      "Page 42 scraped\n",
      "Page 43 scraped\n",
      "Page 44 scraped\n",
      "Page 45 scraped\n",
      "Page 46 scraped\n",
      "Page 47 scraped\n",
      "Page 48 scraped\n",
      "Page 49 scraped\n",
      "Page 50 scraped\n",
      "Page 51 scraped\n",
      "Page 52 scraped\n",
      "Page 53 scraped\n",
      "Page 54 scraped\n",
      "Page 55 scraped\n",
      "Page 56 scraped\n",
      "Page 57 scraped\n",
      "Page 58 scraped\n",
      "Page 59 scraped\n",
      "Page 60 scraped\n",
      "Page 61 scraped\n",
      "Page 62 scraped\n",
      "Page 63 scraped\n",
      "Page 64 scraped\n",
      "Page 65 scraped\n",
      "Page 66 scraped\n",
      "Page 67 scraped\n",
      "Page 68 scraped\n",
      "Page 69 scraped\n",
      "Page 70 scraped\n",
      "Page 71 scraped\n",
      "Page 72 scraped\n",
      "Page 73 scraped\n",
      "Page 74 scraped\n",
      "Page 75 scraped\n",
      "Page 76 scraped\n",
      "Page 77 scraped\n",
      "Page 78 scraped\n",
      "Page 79 scraped\n",
      "Page 80 scraped\n",
      "Page 81 scraped\n",
      "Page 82 scraped\n",
      "Page 83 scraped\n",
      "Page 84 scraped\n",
      "Page 85 scraped\n",
      "Page 86 scraped\n",
      "Page 87 scraped\n",
      "Page 88 scraped\n",
      "Page 89 scraped\n",
      "Page 90 scraped\n",
      "Page 91 scraped\n",
      "Page 92 scraped\n",
      "Page 93 scraped\n",
      "Page 94 scraped\n"
     ]
    }
   ],
   "source": [
    "page_num = 1\n",
    "Game_Name = []\n",
    "Game_Description = []\n",
    "Game_Price = []\n",
    "Game_Genre = []\n",
    "Game_links = []\n",
    "Game_Link = []\n",
    "Game_link = []\n",
    "\n",
    "\n",
    "while True:\n",
    "    results = requests.get(f'https://sandbox.oxylabs.io/products?page={page_num}')\n",
    "    src = results.content\n",
    "    soupydoupy = BeautifulSoup(src, 'lxml')\n",
    "    Game_Names = soupydoupy.find_all('h4', {'class':'title css-7u5e79 eag3qlw7'})\n",
    "    Game_Descriptions = soupydoupy.find_all('p', {'class':'description css-cput12 eag3qlw5'})\n",
    "    Game_Prices = soupydoupy.find_all('div', {'class':'price-wrapper css-li4v8k eag3qlw4'})\n",
    "    Game_Genres = soupydoupy.find_all('p', {'class':'category css-8fdgzc eag3qlw9'})\n",
    "    Game_links = soupydoupy.find_all('a', {'class':'card-header css-o171kl eag3qlw2'})\n",
    "    for i in range(len(Game_Names)):\n",
    "        Game_Name.append(Game_Names[i].text)\n",
    "        Game_Description.append(Game_Descriptions[i].text)\n",
    "        Game_Price.append(Game_Prices[i].text)\n",
    "        Game_Genre.append(Game_Genres[i].text)\n",
    "        Game_link.append(Game_links[i]['href'])\n",
    "    print(f'Page {page_num} scraped')\n",
    "    page_num += 1\n",
    "    if page_num >= (total_res // 32) + 2:\n",
    "        break"
   ]
  },
  {
   "cell_type": "code",
   "execution_count": 9,
   "id": "23369dc3",
   "metadata": {},
   "outputs": [
    {
     "name": "stdout",
     "output_type": "stream",
     "text": [
      "3000\n"
     ]
    }
   ],
   "source": [
    "print(len(Game_Name))"
   ]
  },
  {
   "cell_type": "code",
   "execution_count": 10,
   "id": "ac14eeb5",
   "metadata": {},
   "outputs": [],
   "source": [
    "for link in Game_link:\n",
    "    link = 'https://sandbox.oxylabs.io' + link\n",
    "    Game_Link.append(link)\n",
    "Games_Availability = []\n",
    "Games_Developers = []\n",
    "Games_Types = []\n",
    "\n",
    "for link in Game_Link:\n",
    "    result = requests.get(link)\n",
    "    src = result.content\n",
    "    soup = BeautifulSoup(src, 'lxml')\n",
    "    Game_Availability = soup.find('p', {'class':'availability css-qequvl e1pl6npa1'})\n",
    "    if Game_Availability:\n",
    "        Games_Availability.append(Game_Availability.text)\n",
    "    else:\n",
    "        Games_Availability.append(\"Out of Stock\")\n",
    "    Game_Developer = soup.find('span', {'class':'brand developer'})\n",
    "    Games_Developers.append(Game_Developer.text.replace('Developer: ' , ''))\n",
    "    Game_Type = soup.find('div', {'class':'brand-wrapper css-1f150rr e15c0rei0'})\n",
    "    Games_Types.append(Game_Type.text)\n",
    "Types = []\n",
    "for type in Games_Types:\n",
    "    if \"single\" in type:\n",
    "        Types.append(\"Single Player\")\n",
    "    elif \"multi\" in type:\n",
    "        Types.append(\"Multiplayer\")\n",
    "    else:\n",
    "        Types.append(\"Unknown\")"
   ]
  },
  {
   "cell_type": "code",
   "execution_count": 11,
   "id": "b4d6ac3b",
   "metadata": {},
   "outputs": [],
   "source": [
    "F_list = [Game_Name, Game_Description, Game_Price, Game_Genre, Game_Link , Games_Availability , Games_Developers, Types]\n",
    "Zip_List = zip_longest(*F_list)\n",
    "with open(r'D:\\\\STD\\\\AI\\Cat_Tasks\\3RD Week\\Games_CodzillaOnlyyy.csv', 'w') as f:\n",
    "    wr = csv.writer(f)\n",
    "    wr.writerow(['Game Name', 'Game Description', 'Game Price', 'Game Genre' , 'Game Link' , 'Game Availability' , 'Game Developer', 'Game Type'])\n",
    "    wr.writerows(Zip_List)"
   ]
  },
  {
   "cell_type": "code",
   "execution_count": 12,
   "id": "ced53ac1",
   "metadata": {},
   "outputs": [
    {
     "name": "stdout",
     "output_type": "stream",
     "text": [
      "<class 'pandas.core.frame.DataFrame'>\n",
      "RangeIndex: 3000 entries, 0 to 2999\n",
      "Data columns (total 8 columns):\n",
      " #   Column             Non-Null Count  Dtype \n",
      "---  ------             --------------  ----- \n",
      " 0   Game Name          3000 non-null   object\n",
      " 1   Game Description   2970 non-null   object\n",
      " 2   Game Price         3000 non-null   object\n",
      " 3   Game Genre         2999 non-null   object\n",
      " 4   Game Link          3000 non-null   object\n",
      " 5   Game Availability  3000 non-null   object\n",
      " 6   Game Developer     2996 non-null   object\n",
      " 7   Game Type          3000 non-null   object\n",
      "dtypes: object(8)\n",
      "memory usage: 187.6+ KB\n"
     ]
    }
   ],
   "source": [
    "data = pd.read_csv(r'D:\\\\STD\\\\AI\\Cat_Tasks\\3RD Week\\Games_CodzillaOnlyyy.csv')\n",
    "data.head(5)\n",
    "data.info()"
   ]
  },
  {
   "cell_type": "code",
   "execution_count": null,
   "id": "ce12d6dd",
   "metadata": {},
   "outputs": [],
   "source": []
  },
  {
   "cell_type": "code",
   "execution_count": null,
   "id": "2f4d8f63",
   "metadata": {},
   "outputs": [],
   "source": []
  }
 ],
 "metadata": {
  "kernelspec": {
   "display_name": "base",
   "language": "python",
   "name": "python3"
  },
  "language_info": {
   "codemirror_mode": {
    "name": "ipython",
    "version": 3
   },
   "file_extension": ".py",
   "mimetype": "text/x-python",
   "name": "python",
   "nbconvert_exporter": "python",
   "pygments_lexer": "ipython3",
   "version": "3.12.4"
  }
 },
 "nbformat": 4,
 "nbformat_minor": 5
}
